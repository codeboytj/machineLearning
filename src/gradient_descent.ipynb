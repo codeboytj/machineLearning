{
 "cells": [
  {
   "cell_type": "markdown",
   "metadata": {},
   "source": [
    "# 梯度下降法\n",
    "\n",
    "以梯度下降法求解逻辑回归：\n",
    "\n",
    "#### 逻辑回归\n",
    "\n",
    "损失函数为：\n",
    "\n",
    "$$\n",
    "cost(\\beta)=\\sum \\limits_{i=1}^m (-y_i\\beta^T\\widehat{x_i}+ln(1+e^{\\beta^T\\widehat{x_i}}))\n",
    "$$\n",
    "\n",
    "其中，\\\\(\\beta=(w;b)\\\\)，\\\\(\\widehat{x_i}=(x_i;1)\\\\)，均为列向量。对\\\\(cost(\\beta)\\\\)求\\\\(\\beta\\\\)的偏导：\n",
    "\n",
    "$$\n",
    " \\frac{\\partial}{\\partial \\beta} f(cost(\\beta)) = \\sum \\limits_{i=1}^m (\\widehat{x_i}(\\frac{1}{1+e^{-\\beta^T\\widehat{x_i}}}-y_i))\n",
    "$$\n",
    "\n",
    "#### 梯度下降\n",
    "\n",
    "步骤：\n",
    "\n",
    "1. 指定步长\\\\(\\alpha\\\\)，阈值tol以及一个初始的\\\\(\\beta\\\\)\n",
    "2. 计算损失previousCost\n",
    "3. 更新\\\\(\\beta=\\beta-\\alpha\\sum \\limits_{i=1}^m (\\widehat{x_i}(\\frac{1}{1+e^{-\\beta^T\\widehat{x_i}}}-y_i))\\\\)\n",
    "4. 重新计算损失cost：\n",
    "      * 如果cost - previousCost < tol，停止所有步骤，此时的\\\\(\\beta\\\\)即为最优解\n",
    "      * 如果cost - previousCost > tol，重复步骤3-4"
   ]
  },
  {
   "cell_type": "markdown",
   "metadata": {},
   "source": [
    "#### 实例\n",
    "\n",
    "加载花瓣数据，只取2个分类数据，为了方便出图，将花瓣特征数据维度降为2维"
   ]
  },
  {
   "cell_type": "code",
   "execution_count": 8,
   "metadata": {
    "scrolled": true
   },
   "outputs": [
    {
     "data": {
      "image/png": "[encoded data removed]",
      "text/plain": [
       "<Figure size 432x288 with 1 Axes>"
      ]
     },
     "metadata": {
      "needs_background": "light"
     },
     "output_type": "display_data"
    }
   ],
   "source": [
    "from sklearn.datasets import load_iris\n",
    "X, y = load_iris(return_X_y=True)\n",
    "\n",
    "X_new = []\n",
    "y_new = []\n",
    "for i in range(y.shape[0]):\n",
    "    if y[i] == 2:\n",
    "        continue\n",
    "    X_new.append(X[i])\n",
    "    y_new.append(y[i])\n",
    "\n",
    "from sklearn.decomposition import PCA\n",
    "pca = PCA(n_components=2)\n",
    "X_new = pca.fit_transform(X_new)\n",
    "\n",
    "import matplotlib.pyplot as plt\n",
    "plt.scatter(X_new[:,0], X_new[:,1], c=y_new)\n",
    "plt.show()\n",
    "\n",
    "import numpy as np\n",
    "X=np.array(X_new, np.float64)\n",
    "X = np.insert(X, 2, values=np.ones(X.shape[0]), axis=1)\n",
    "y=np.array(y_new, np.int)"
   ]
  },
  {
   "cell_type": "code",
   "execution_count": 2,
   "metadata": {},
   "outputs": [],
   "source": [
    "def cost(X, y, beta):\n",
    "    value = 0\n",
    "    for i in range(X.shape[0]):\n",
    "        value = value + (np.log(1+np.exp(beta.T@X[i]))-y[i]*(beta.T@X[i]))\n",
    "        \n",
    "    return value\n",
    "\n",
    "def gradient(X, y, beta):\n",
    "    vector = np.zeros(beta.shape[0]).T\n",
    "    for i in range(X.shape[0]):\n",
    "        vector = vector + (X[i]*(1/(1+np.exp(-(beta.T@X[i])))-y[i]))\n",
    "    return vector"
   ]
  },
  {
   "cell_type": "markdown",
   "metadata": {},
   "source": [
    "取\\\\(\\alpha\\\\)=0.0001，\\\\(tol\\\\)=1e-3 以及\\\\(\\beta=[0,0,0]^T\\\\)，开始迭代，计算一开始的损失值："
   ]
  },
  {
   "cell_type": "code",
   "execution_count": 3,
   "metadata": {},
   "outputs": [],
   "source": [
    "alpha = 0.0001\n",
    "tol = 1e-3\n",
    "beta = np.array([0,0,0]).T\n",
    "\n",
    "previousCost = cost(X, y, beta)"
   ]
  },
  {
   "cell_type": "markdown",
   "metadata": {},
   "source": [
    "更新\\\\(\\beta\\\\)，并计算新的损失，以及与之前损失的差值："
   ]
  },
  {
   "cell_type": "code",
   "execution_count": 4,
   "metadata": {},
   "outputs": [
    {
     "name": "stdout",
     "output_type": "stream",
     "text": [
      "-----No.1000-----\n",
      "beta: [ 1.94754801 -0.23477967  0.05902566]\n",
      "cost1: 5.667740732559272\n",
      "cost2: 5.662921199564655\n",
      "-----No.2000-----\n",
      "beta: [ 2.42098168 -0.35792258  0.12321256]\n",
      "cost1: 3.1445294115744136\n",
      "cost2: 3.1431957223610376\n"
     ]
    }
   ],
   "source": [
    "counter = 0\n",
    "while(True):\n",
    "    counter = counter+1;\n",
    "    beta = beta - alpha*gradient(X, y, beta)\n",
    "    currentCost = cost(X, y, beta)\n",
    "    if (previousCost- currentCost)<tol:\n",
    "        break\n",
    "    if counter % 1000 == 0: \n",
    "        print('-----No.%d-----' % counter);\n",
    "        print('beta: %s' % beta);\n",
    "        print('cost1: %s' % previousCost);\n",
    "        print('cost2: %s' % currentCost);\n",
    "    previousCost = currentCost"
   ]
  },
  {
   "cell_type": "markdown",
   "metadata": {},
   "source": [
    "最终的\\\\(\\beta\\\\)："
   ]
  },
  {
   "cell_type": "code",
   "execution_count": 5,
   "metadata": {},
   "outputs": [
    {
     "data": {
      "text/plain": [
       "array([ 2.52929319, -0.39071848,  0.14195062])"
      ]
     },
     "execution_count": 5,
     "metadata": {},
     "output_type": "execute_result"
    }
   ],
   "source": [
    "beta"
   ]
  },
  {
   "cell_type": "markdown",
   "metadata": {},
   "source": [
    "梯度下降法一共进行了2338次迭代："
   ]
  },
  {
   "cell_type": "code",
   "execution_count": 6,
   "metadata": {
    "scrolled": true
   },
   "outputs": [
    {
     "data": {
      "text/plain": [
       "2338"
      ]
     },
     "execution_count": 6,
     "metadata": {},
     "output_type": "execute_result"
    }
   ],
   "source": [
    "counter"
   ]
  },
  {
   "cell_type": "markdown",
   "metadata": {},
   "source": [
    "所以，最终求得直线\\\\(\\beta^Tx=0\\\\)，即\\\\(2.52929319x_1-0.39071848x_2+0.14195062=0\\\\)，如图中蓝线所示，直线很好地将样本分成了2类："
   ]
  },
  {
   "cell_type": "code",
   "execution_count": 16,
   "metadata": {},
   "outputs": [
    {
     "data": {
      "image/png": "[encoded data removed]",
      "text/plain": [
       "<Figure size 432x288 with 1 Axes>"
      ]
     },
     "metadata": {
      "needs_background": "light"
     },
     "output_type": "display_data"
    }
   ],
   "source": [
    "fig, ax = plt.subplots()\n",
    "\n",
    "lineX1 = np.linspace(X.min(), X.max(), 100)\n",
    "lineX2 = (2.52929319*lineX1+0.14195062)/0.39071848\n",
    "\n",
    "ax.plot(lineX1, lineX2)\n",
    "ax.scatter(X_new[:,0], X_new[:,1], c=y_new)\n",
    "\n",
    "ax.set_ylim([-1.5, 1.5])\n",
    "plt.show()"
   ]
  }
 ],
 "metadata": {
  "kernelspec": {
   "display_name": "Python 3",
   "language": "python",
   "name": "python3"
  },
  "language_info": {
   "codemirror_mode": {
    "name": "ipython",
    "version": 3
   },
   "file_extension": ".py",
   "mimetype": "text/x-python",
   "name": "python",
   "nbconvert_exporter": "python",
   "pygments_lexer": "ipython3",
   "version": "3.7.1"
  }
 },
 "nbformat": 4,
 "nbformat_minor": 2
}
