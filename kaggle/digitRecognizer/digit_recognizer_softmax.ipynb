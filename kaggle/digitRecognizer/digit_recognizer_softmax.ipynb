{
 "cells": [
  {
   "cell_type": "code",
   "execution_count": 1,
   "metadata": {},
   "outputs": [],
   "source": [
    "import pandas as pd\n",
    "import tensorflow as tf\n",
    "import numpy as np\n",
    "\n",
    "import warnings\n",
    "warnings.filterwarnings('ignore')"
   ]
  },
  {
   "cell_type": "code",
   "execution_count": 12,
   "metadata": {},
   "outputs": [],
   "source": [
    "train_csv = pd.read_csv('./dataset/train.csv')"
   ]
  },
  {
   "cell_type": "code",
   "execution_count": 14,
   "metadata": {},
   "outputs": [],
   "source": [
    "from sklearn.preprocessing import OneHotEncoder\n",
    "one_hot = OneHotEncoder()\n",
    "label = one_hot.fit_transform(np.array([train_csv['label'].values]).T).toarray()"
   ]
  },
  {
   "cell_type": "code",
   "execution_count": 4,
   "metadata": {},
   "outputs": [],
   "source": [
    "train_df = train_csv.drop(['label'], axis=1)"
   ]
  },
  {
   "cell_type": "code",
   "execution_count": 97,
   "metadata": {},
   "outputs": [],
   "source": [
    "from sklearn.model_selection import train_test_split\n",
    "X_train, X_test, y_train, y_test = train_test_split(train_df, label, test_size=0.1, random_state=42)"
   ]
  },
  {
   "cell_type": "code",
   "execution_count": 6,
   "metadata": {},
   "outputs": [
    {
     "name": "stdout",
     "output_type": "stream",
     "text": [
      "WARNING:tensorflow:From /media/document/PycharmProjects/ml/venv/lib/python3.5/site-packages/tensorflow/python/framework/op_def_library.py:263: colocate_with (from tensorflow.python.framework.ops) is deprecated and will be removed in a future version.\n",
      "Instructions for updating:\n",
      "Colocations handled automatically by placer.\n"
     ]
    }
   ],
   "source": [
    "x = tf.placeholder(tf.float32, [None, 784])\n",
    "w = tf.Variable(tf.zeros([784, 10]))\n",
    "b = tf.Variable(tf.zeros([10]))\n",
    "\n",
    "y = tf.nn.softmax(tf.matmul(x, w) + b)"
   ]
  },
  {
   "cell_type": "code",
   "execution_count": 7,
   "metadata": {},
   "outputs": [],
   "source": [
    "y_ = tf.placeholder(\"float\", [None,10])"
   ]
  },
  {
   "cell_type": "code",
   "execution_count": 8,
   "metadata": {},
   "outputs": [],
   "source": [
    "corss_entropy = -tf.reduce_sum(y_*tf.log(y))\n",
    "learning_rate = 0.01\n",
    "train_step = tf.train.GradientDescentOptimizer(learning_rate).minimize(corss_entropy)"
   ]
  },
  {
   "cell_type": "code",
   "execution_count": 83,
   "metadata": {},
   "outputs": [],
   "source": [
    "class Dataset(object):\n",
    "    def __init__(self, data, label):\n",
    "        self.rows = len(data.values)\n",
    "        self.images = data.values\n",
    "        self.images = self.images.astype(np.float32)\n",
    "        self.images = np.multiply(self.images, 1.0 / 255.0)\n",
    "        self.labels = label\n",
    "        self.index_in_epoch = 0\n",
    "        self.epoch = 0\n",
    "    def next_batch(self, batch_size):\n",
    "        start = self.index_in_epoch\n",
    "        self.index_in_epoch += batch_size\n",
    "        if self.index_in_epoch > self.rows:\n",
    "            self.epoch += 1\n",
    "            perm = np.arange(self.rows)\n",
    "            np.random.shuffle(perm)\n",
    "            self.images = self.images[perm]\n",
    "            self.labels = self.labels[perm]\n",
    "            #next epoch\n",
    "            start = 0\n",
    "            self.index_in_epoch = batch_size\n",
    "        end = self.index_in_epoch\n",
    "        return self.images[start:end] , self.labels[start:end]"
   ]
  },
  {
   "cell_type": "code",
   "execution_count": 98,
   "metadata": {},
   "outputs": [],
   "source": [
    "dataset = Dataset(X_train, y_train)"
   ]
  },
  {
   "cell_type": "code",
   "execution_count": 99,
   "metadata": {},
   "outputs": [],
   "source": [
    "init = tf.global_variables_initializer()\n",
    "sess = tf.Session()\n",
    "sess.run(init)\n",
    "\n",
    "for i in range(1000):\n",
    "    X_train_, y_train_ = dataset.next_batch(100)\n",
    "    sess.run(train_step, feed_dict={x: X_train_, y_: y_train_})"
   ]
  },
  {
   "cell_type": "code",
   "execution_count": 100,
   "metadata": {},
   "outputs": [
    {
     "name": "stdout",
     "output_type": "stream",
     "text": [
      "0.8442857\n"
     ]
    }
   ],
   "source": [
    "correct_prediction = tf.equal(tf.argmax(y,1), tf.argmax(y_,1))\n",
    "accuracy = tf.reduce_mean(tf.cast(correct_prediction, \"float\"))\n",
    "print(sess.run(accuracy, feed_dict={x: X_test, y_: y_test}))"
   ]
  },
  {
   "cell_type": "code",
   "execution_count": 104,
   "metadata": {},
   "outputs": [],
   "source": [
    "sess.run(init)\n",
    "\n",
    "dataset = Dataset(train_df, label)\n",
    "for i in range(1000):\n",
    "    X_train_, y_train_ = dataset.next_batch(100)\n",
    "    sess.run(train_step, feed_dict={x: X_train_, y_: y_train_})"
   ]
  },
  {
   "cell_type": "code",
   "execution_count": 105,
   "metadata": {},
   "outputs": [],
   "source": [
    "test_csv = pd.read_csv('./dataset/test.csv')\n",
    "result = sess.run(y, feed_dict={x: test_csv})\n",
    "result = [np.argmax(p) for p in result]\n",
    "result = pd.DataFrame({'ImageId': range(1,len(result)+1), 'Label': result})\n",
    "result.to_csv('result.csv', index=False, encoding='utf-8')"
   ]
  },
  {
   "cell_type": "code",
   "execution_count": 116,
   "metadata": {},
   "outputs": [],
   "source": [
    "sess.close()"
   ]
  }
 ],
 "metadata": {
  "kernelspec": {
   "display_name": "Python 3",
   "language": "python",
   "name": "python3"
  },
  "language_info": {
   "codemirror_mode": {
    "name": "ipython",
    "version": 3
   },
   "file_extension": ".py",
   "mimetype": "text/x-python",
   "name": "python",
   "nbconvert_exporter": "python",
   "pygments_lexer": "ipython3",
   "version": "3.5.2"
  }
 },
 "nbformat": 4,
 "nbformat_minor": 2
}
