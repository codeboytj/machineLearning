{
 "cells": [
  {
   "cell_type": "markdown",
   "metadata": {},
   "source": [
    "使用scikit-learn的iris数据做样本，取其中2类进行SVM二分类，为了方便出图，事先使用PCA将数据维度降为2维："
   ]
  },
  {
   "cell_type": "code",
   "execution_count": 30,
   "metadata": {},
   "outputs": [
    {
     "data": {
      "image/png": "[encoded data removed]",
      "text/plain": [
       "<Figure size 432x288 with 1 Axes>"
      ]
     },
     "metadata": {
      "needs_background": "light"
     },
     "output_type": "display_data"
    }
   ],
   "source": [
    "import numpy as np\n",
    "import matplotlib.pyplot as plt\n",
    "from sklearn import svm, datasets\n",
    "\n",
    "iris = datasets.load_iris()\n",
    "X = iris.data\n",
    "y = iris.target\n",
    "X_new = []\n",
    "y_new = []\n",
    "for i in range(y.shape[0]):\n",
    "    if y[i] == 2:\n",
    "        continue\n",
    "    elif y[i] == 0:\n",
    "        y[i] = -1\n",
    "    X_new.append(X[i])\n",
    "    y_new.append(y[i])\n",
    "        \n",
    "X = np.array(X_new)\n",
    "y = np.array(y_new)\n",
    "from sklearn.decomposition import PCA\n",
    "pca = PCA(n_components=2)\n",
    "X = pca.fit_transform(X)\n",
    "\n",
    "fig, ax = plt.subplots()\n",
    "ax.scatter(X[:,0], X[:,1], c=y)\n",
    "plt.show()"
   ]
  },
  {
   "cell_type": "markdown",
   "metadata": {},
   "source": [
    "#### SVM目标函数推导\n",
    "\n",
    "SVM优化目标为，令$\\xi_i = max(0, 1-y_i(w^Tx_i+b))$：\n",
    "\n",
    "$$min\\frac{\\|w\\|^2}{2} + C\\sum \\limits_{i=1}^m \\xi_i$$\n",
    "$$s.t. \\ y_i(w^Tx_i+b) \\geq 1-\\xi_i$$\n",
    "$$\\xi_i \\geq 0$$\n",
    "\n",
    "使用拉格朗日乘子法，令$\\alpha_i>0$，$\\mu_i>0$\n",
    "\n",
    "$$L(w,b,\\alpha,\\mu,\\xi) = \\frac{\\|w\\|^2}{2} + C\\sum \\limits_{i=1}^m \\xi_i - \\sum \\limits_{i=1}^m \\alpha_i[y_i(w^Tx_i+b) - 1+\\xi_i] - \\sum \\limits_{i=1}^m \\mu_i\\xi_i$$\n",
    "\n",
    "先令L求w、b和$\\xi$的偏导等于0，得：\n",
    "\n",
    "$$ w = \\sum \\limits_{i=1}^m \\alpha_ix_iy_i $$\n",
    "$$ \\sum \\limits_{i=1}^m \\alpha_iy_i = 0 $$\n",
    "$$ C = \\alpha_i + \\mu_i $$\n",
    "\n",
    "将以上三式代入L，得到原目标函数的对偶问题：\n",
    "\n",
    "$$ max \\sum \\limits_{i=1}^m \\alpha_i-\\frac{1}{2} \\sum \\limits_{i=1}^m \\sum \\limits_{j=1}^m \\alpha_i\\alpha_jy_iy_jx_i^Tx_j$$\n",
    "$$ s.t. 0 \\leq \\alpha_i \\leq C$$\n",
    "$$ \\sum \\limits_{i=1}^m \\alpha_iy_i = 0 $$\n",
    "\n",
    "要求使原目标函数取最小值w、b和$\\xi$，可以求满足KTT条件的对偶问题取最大值时的$\\alpha$，$ w = \\sum \\limits_{i=1}^m \\alpha_ix_iy_i $，代入$ w^Tx+b = 0 $ 得 $\\sum \\limits_{i=1}^m \\alpha_iy_ix_i^T x +b $。其中KKT条件为：\n",
    "\n",
    "$$\\alpha_i \\geq 0$$\n",
    "$$\\mu_i \\geq 0$$\n",
    "$$\\xi_i \\geq 0$$\n",
    "$$y_i(w^Tx_i+b) - 1+\\xi_i \\geq 0$$\n",
    "$$\\alpha_i[y_i(w^Tx_i+b) - 1+\\xi_i]=0$$\n",
    "$$\\mu_i\\xi_i=0$$\n",
    "\n",
    "这个复杂的问题需要使用SMO算法来解。\n",
    "\n",
    "#### SMO算法\n",
    "\n",
    "SMO的一次迭代选择一对($\\alpha_i, \\alpha_j$)进行优化，将其它$\\alpha$看做常数。拿($\\alpha_1, \\alpha_2$)为例，经过[漫长痛苦的推导步骤](https://zhuanlan.zhihu.com/p/29212107)，可以得到$\\alpha_1$、$\\alpha_2$以及$b$的更新公式。\n",
    "\n",
    "$$\\alpha_2^{new} = \\alpha_2^{old} + \\frac{y_2(E_1-E_2)}{\\eta}$$\n",
    "$$\\alpha_1^{new} = \\alpha_1^{old} + y_1y_2(\\alpha_2^{old}-\\alpha_2^{new})$$\n",
    "其中：$$\\eta = K_{11}+K{22}-2K{12}$$\n",
    "$$E_i = \\sum \\limits_{k=1}^m \\alpha_ky_kx_k^T x_i +b - y_i$$\n",
    "\n",
    "迭代至$\\alpha_1$、$\\alpha_2$稳定为止，再选取下一对($\\alpha_i, \\alpha_j$)进行迭代。参照[The Simplified SMO Algorithm](http://cs229.stanford.edu/materials/smo.pdf)简单地实现smo算法："
   ]
  },
  {
   "cell_type": "code",
   "execution_count": 91,
   "metadata": {},
   "outputs": [],
   "source": [
    "def f_xi(X, y, alpha, b, i):\n",
    "    w = np.zeros(X.shape[1])\n",
    "    for i in range(X.shape[0]):\n",
    "        w = w + alpha[i]*y[i]*X[i]\n",
    "    return w@X[i]+b\n",
    "\n",
    "import random\n",
    "def random_j(low, high, i):\n",
    "    j = random.randint(low, high)\n",
    "    if j == i:\n",
    "        return random_j(low, high, i)\n",
    "    else:\n",
    "        return j\n",
    "\n",
    "def rbf(xi, xj):\n",
    "    return xi.T@xj\n",
    "#     tmp = xi-xj\n",
    "#     return np.exp(-1*tmp.T@tmp/2)\n",
    "\n",
    "def calculate_eta(X, i, j):\n",
    "    # K11+K22-2K12\n",
    "    kii = rbf(X[i], X[i])\n",
    "    kjj = rbf(X[j], X[j])\n",
    "    kij = rbf(X[i],X[j])\n",
    "    return kii+kjj-2*kij\n",
    "\n",
    "def clip_alpha(low, high, alpha):\n",
    "    if alpha>high:\n",
    "        return high\n",
    "    if alpha<low:\n",
    "        return low\n",
    "    return alpha\n",
    "    \n",
    "def simplified_smo(X, y, tol, c, max_passes):\n",
    "    alpha = np.zeros(X.shape[0])\n",
    "    b = 0\n",
    "    passes = 0\n",
    "    while (passes<max_passes):\n",
    "        num_changed_alpha = 0\n",
    "        for i in range(alpha.shape[0]):\n",
    "            error_i = f_xi(X, y, alpha, b, i) - y[i]\n",
    "            \n",
    "            alpha_i = alpha[i]\n",
    "            \n",
    "            if not ((alpha_i>0 and y[i]*error_i>tol)\n",
    "                or (alpha_i<c and y[i]*error_i<-1*tol)):\n",
    "                #KKT \n",
    "                continue\n",
    "            \n",
    "#             import pdb;pdb.set_trace()\n",
    "            j = random_j(0, alpha.shape[0]-1, i)\n",
    "            alpha_j = alpha[j]\n",
    "            error_j = f_xi(X, y, alpha, b, j) - y[j]\n",
    "            \n",
    "            alpha_i_old = alpha_i\n",
    "            alpha_j_old = alpha_j\n",
    "            \n",
    "            low = 0\n",
    "            high = 0\n",
    "            if y[i] != y[j]:\n",
    "                low = max(0, alpha_j - alpha_i)\n",
    "                high = min(c, c+alpha_j-alpha_i)\n",
    "            else:\n",
    "                low = max(0, alpha_j + alpha_i - c)\n",
    "                high = min(c, alpha_j+alpha_i)\n",
    "                \n",
    "            if low == high:\n",
    "                # this j will be i in other step of this loop\n",
    "                continue\n",
    "            \n",
    "            eta = calculate_eta(X, i, j)\n",
    "            if eta==0:\n",
    "                continue;\n",
    "            \n",
    "            alpha_j = alpha_j+(y[j]*(error_i-error_j))/eta\n",
    "            alpha_j = clip_alpha(low, high, alpha_j)\n",
    "            \n",
    "            alpha[j]=alpha_j\n",
    "            if abs(alpha_j-alpha_j_old)<10e-5:\n",
    "                continue;\n",
    "            \n",
    "            alpha_i = alpha_i+y[i]*y[j]*(alpha_j_old-alpha_j)\n",
    "            alpha[i] = alpha_i\n",
    "            \n",
    "            bi = b-error_i-y[i]*(alpha_i-alpha_i_old)*rbf(X[i],X[i])-y[j]*(alpha_j-alpha_j_old)*rbf(X[i],X[j])\n",
    "            bj = b-error_j-y[i]*(alpha_i-alpha_i_old)*rbf(X[i],X[j])-y[j]*(alpha_j-alpha_j_old)*rbf(X[j],X[j])\n",
    "            if alpha_i>0 and alpha_i<c:\n",
    "                b =bi\n",
    "            elif alpha_j>0 and alpha_j<c:\n",
    "                b =bj\n",
    "            else:\n",
    "                b =(bi+bj)/2\n",
    "            num_changed_alpha=num_changed_alpha+1\n",
    "        \n",
    "        if num_changed_alpha==0:\n",
    "            passes = passes+1\n",
    "        else:\n",
    "            passes = 0\n",
    "    \n",
    "    return (alpha, b)"
   ]
  },
  {
   "cell_type": "code",
   "execution_count": 92,
   "metadata": {
    "scrolled": true
   },
   "outputs": [],
   "source": [
    "# from sklearn.gaussian_process.kernels import RBF\n",
    "\n",
    "# rbf = RBF()\n",
    "# X = rbf(X)\n",
    "\n",
    "(alpha, b) = simplified_smo(X, y, 1e-4, 1, 1000)"
   ]
  },
  {
   "cell_type": "code",
   "execution_count": 93,
   "metadata": {},
   "outputs": [],
   "source": [
    "w = np.zeros(X.shape[1])\n",
    "for i in range(X.shape[0]):\n",
    "    w = w + alpha[i]*y[i]*X[i]"
   ]
  },
  {
   "cell_type": "code",
   "execution_count": 94,
   "metadata": {},
   "outputs": [],
   "source": [
    "x1 = np.linspace(-2,2,100)\n",
    "x2 = (-1*b-w[0]*x1)/w[1]"
   ]
  },
  {
   "cell_type": "code",
   "execution_count": 95,
   "metadata": {},
   "outputs": [
    {
     "data": {
      "image/png": "[encoded data removed]",
      "text/plain": [
       "<Figure size 432x288 with 1 Axes>"
      ]
     },
     "metadata": {
      "needs_background": "light"
     },
     "output_type": "display_data"
    }
   ],
   "source": [
    "fig, ax = plt.subplots()\n",
    "ax.plot(x1, x2)\n",
    "ax.scatter(X[:,0], X[:,1], c=y)\n",
    "ax.set_ylim([-1.5, 1.5])\n",
    "plt.show()"
   ]
  }
 ],
 "metadata": {
  "kernelspec": {
   "display_name": "Python 3",
   "language": "python",
   "name": "python3"
  },
  "language_info": {
   "codemirror_mode": {
    "name": "ipython",
    "version": 3
   },
   "file_extension": ".py",
   "mimetype": "text/x-python",
   "name": "python",
   "nbconvert_exporter": "python",
   "pygments_lexer": "ipython3",
   "version": "3.5.2"
  }
 },
 "nbformat": 4,
 "nbformat_minor": 2
}
