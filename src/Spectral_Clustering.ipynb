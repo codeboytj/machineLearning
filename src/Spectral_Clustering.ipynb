{
 "cells": [
  {
   "cell_type": "markdown",
   "metadata": {},
   "source": [
    "# 谱聚类\n",
    "\n",
    "## 1. 基础概念\n",
    "\n",
    "#### 1.1 什么是聚类\n",
    "\n",
    "将多维空间中的样本分为多个组，使得组内的样本尽可能相似，组间样本尽可能不同。有K-means，谱聚类，DBSCAN等多种聚类算法。\n",
    "\n",
    "#### 1.2 什么是谱聚类\n",
    "\n",
    "谱聚类是图论演变而来的聚类算法。将所有样本点\\\\(v\\\\)视为图的顶点，并使用邻接矩阵\\\\(W\\\\)表示图，矩阵中的每一个元素\\\\(w_{ij}\\\\)表示边的权重。当\\\\(v_i\\\\)到\\\\(v_j\\\\)的边不存在的时候，\\\\(w_{ij}\\\\)的值取一个非常小，趋近或等于0的值；当\\\\(v_i\\\\)到\\\\(v_j\\\\)的邻接非常紧密，\\\\(w_{ij}\\\\)的值取一个相对较大的值。\n",
    "\n",
    "对于n维空间内，一个有m个顶点的图，它的顶点组成矩阵：\n",
    "\n",
    "$$V=\n",
    " \\left[\n",
    " \\begin{matrix}\n",
    "   v_{11} & v_{12} & ... & v_{1n} \\\\\n",
    "   v_{21} & v_{22} & ... & v_{2n} \\\\\n",
    "   ... & ...  & ... & ... \\\\\n",
    "   v_{m1} & v_{m2}  & ... & v_{mn}\n",
    "  \\end{matrix}\n",
    "  \\right]\n",
    "$$\n",
    "\n",
    "这样的图，它的邻接矩阵是一个\\\\(m\\times m\\\\)矩阵：\n",
    "\n",
    "$$W=\n",
    " \\left[\n",
    " \\begin{matrix}\n",
    "   w_{11} & w_{12} & ... & w_{1m} \\\\\n",
    "   w_{21} & w_{22} & ... & w_{2m} \\\\\n",
    "   ... & ...  & ... & ... \\\\\n",
    "   w_{m1} & w_{m2}  & ... & w_{mm}\n",
    "  \\end{matrix}\n",
    "  \\right]\n",
    "$$\n",
    "\n",
    "之后，谱聚类算法将这样的图切分成k个子图，使得子图间的权重尽可能小，子图内的权重尽可能大。而这k个子图就是聚类生成的k个类。\n",
    "\n",
    "## 2. 如何度量样本间的相似程度\n",
    "\n",
    "K-means算法使用欧式距离度量样本间的相似，距离越小相似程度越大。\n",
    "而谱聚类使用边的权重度量样本的相似程度，权重越大相似程度越大。\n",
    "\n",
    "#### 2.1 高斯核函数\n",
    "\n",
    "谱聚类的相似度量方式有很多，通常使用高斯核函数RBF将欧式距离转换为权重，以度量相似程度。\n",
    "举一个简单的例子，假设空间中有10个顶点如下图所示："
   ]
  },
  {
   "cell_type": "code",
   "execution_count": 13,
   "metadata": {
    "scrolled": false
   },
   "outputs": [
    {
     "data": {
      "image/png": "[encoded data removed]",
      "text/plain": [
       "<Figure size 360x360 with 1 Axes>"
      ]
     },
     "metadata": {
      "needs_background": "light"
     },
     "output_type": "display_data"
    }
   ],
   "source": [
    "import matplotlib.pyplot as plt\n",
    "import numpy as np\n",
    "\n",
    "x = np.arange(0, 10, 1)\n",
    "y = np.zeros(x.shape)\n",
    "\n",
    "fig, ax = plt.subplots()\n",
    "fig.set_size_inches(5, 5)\n",
    "\n",
    "ax.scatter(x, y)\n",
    "for i in range(10):\n",
    "    ax.annotate('$x_{%d}$' % (i+1), xy=(x[i], y[i]), xytext=(x[i]+0.05, y[i]+0.001))\n",
    "\n",
    "# Hide the right and top spines\n",
    "ax.spines['right'].set_visible(False)\n",
    "ax.spines['top'].set_visible(False)\n",
    "\n",
    "plt.show()"
   ]
  },
  {
   "cell_type": "markdown",
   "metadata": {},
   "source": [
    "对于\\\\(x_6\\\\)来说，要使距离它越近的点与它组成的边权重越大，可以使用RBF将其它点与它之间的欧式距离进行映射，得到与\\\\(x_6\\\\)相连的所有边的权重\\\\(w_{6j}\\\\)结果如下图所示："
   ]
  },
  {
   "cell_type": "code",
   "execution_count": 2,
   "metadata": {},
   "outputs": [
    {
     "name": "stderr",
     "output_type": "stream",
     "text": [
      "e:\\py3-projects\\graphml\\venv\\lib\\site-packages\\ipykernel_launcher.py:9: DeprecationWarning: `spline` is deprecated!\n",
      "spline is deprecated in scipy 0.19.0, use Bspline class instead.\n",
      "  if __name__ == '__main__':\n"
     ]
    },
    {
     "data": {
      "image/png": "[encoded data removed]",
      "text/plain": [
       "<Figure size 432x432 with 1 Axes>"
      ]
     },
     "metadata": {
      "needs_background": "light"
     },
     "output_type": "display_data"
    }
   ],
   "source": [
    "\n",
    "fig, rbf = plt.subplots()\n",
    "fig.set_size_inches(6, 6)\n",
    "\n",
    "x1 = [np.exp(-np.square(x[i]-x[5])/2) for i in range(10)]\n",
    "\n",
    "xi = np.linspace(x.min(),x.max(),300)\n",
    "from scipy.interpolate import spline\n",
    "yi = spline(x,x1,xi)\n",
    "\n",
    "rbf.plot( xi, yi )\n",
    "for i in range(10):\n",
    "    rbf.annotate('$w_{6%d}$' % (i+1), xy=(x[i], x1[i]), xytext=(x[i]+0.05, x1[i]+0.001))\n",
    "rbf.spines['right'].set_visible(False)\n",
    "rbf.spines['top'].set_visible(False)\n",
    "\n",
    "rbf.set_xticks([i for i in range(10)])\n",
    "rbf.set_xticklabels(['$x_{%d}$' % (i+1) for i in range(10)])\n",
    "\n",
    "rbf.set_ylabel('$w_6$')\n",
    "plt.show()"
   ]
  },
  {
   "cell_type": "markdown",
   "metadata": {},
   "source": [
    "可以看出距离\\\\(x_6\\\\)越近的点与\\\\(x_6\\\\)组成的边，权重越大。\n",
    "\n",
    "#### 2.2 K近邻法\n",
    "\n",
    "除此之外，还可以使用K近邻法度量相似程度，对于某个顶点，找出距离它最近的k个顶点，这k个顶点的权重设为1，其它的权重设为0。\n",
    "\n",
    "高斯核函数和K近邻法在scikit-learn的[谱聚类算法](https://scikit-learn.org/stable/modules/generated/sklearn.cluster.SpectralClustering.html#sklearn.cluster.SpectralClustering)都已经被支持，在本文最终的例子中，使用K近邻法作用相似程度度量方法计算邻接矩阵。"
   ]
  },
  {
   "cell_type": "markdown",
   "metadata": {},
   "source": [
    "## 3. 谱聚类的优化目标\n",
    "\n",
    "谱聚类的目标是聚类之后，子图间权重尽可能小，子图内权重尽可能大。可以用\\\\(A_1,A_2,...,A_k\\\\)表示聚类之后得到k个组，即k个子图。对于某个子图$A_i$，它与其它子图\\\\(\\overline{A_i}\\\\)之间没有边连接。\n",
    "\n",
    "对于两个子图A和B，定义A与B间的权重：\n",
    "$$W(A, B)=\\sum \\limits_{i \\in A, j \\in B} w_{ij}$$\n",
    "则$A_i$与其他子图间的权重为：\n",
    "$$W(A_i, \\bar{A_i})$$\n",
    "那么$A_i$组内的权重如何表示呢？\n",
    "\n",
    "对于一个样本$x_i$，可以定义度\\\\(d_i=\\sum \\limits_{j=1}^m w_{ij}\\\\)。可以得到度矩阵：\n",
    "\n",
    "$$D=\n",
    " \\left[\n",
    " \\begin{matrix}\n",
    "   d_{1} & 0 & ... & 0 \\\\\n",
    "   0 & d_{2} & ... & 0 \\\\\n",
    "   ... & ...  & ... & ... \\\\\n",
    "   0 & 0 & ... & d_m\n",
    "  \\end{matrix}\n",
    "  \\right]\n",
    "$$\n",
    "\n",
    "对于子图$A_i$，组内的权重可以表示为：\n",
    "$$vol(A_i)=\\sum \\limits_{i \\in A_i} d_{i}$$\n",
    "\n",
    "我们希望，$A_i$图内权重尽可能大，并且与其它图之间的权重尽可能小，即优化目标为：\n",
    "\n",
    "$$min\\frac{W(A_i, \\bar{A_i})}{vol(A_i)}$$\n",
    "\n",
    "以子图$A_k$为例：\n",
    "\n",
    "$$\n",
    "\\frac{W(A_k, \\bar{A_k})}{vol(A_k)}=\\frac{1}{2} (\\frac{W(A_k, \\bar{A_k})}{vol(A_k)}+\\frac{W(\\bar{A_k}, A_k)}{vol(A_k)})\n",
    "$$\n",
    "\n",
    "$$\n",
    "=\\frac{1}{2} (\\sum \\limits_{i \\in A_k, j \\in \\bar{A_k}} \\frac{w_{ij}}{vol(A_k)}+\\sum \\limits_{i \\in \\bar{A_k}, j \\in A_k} \\frac{w_{ij}}{vol(A_k)})\n",
    "$$\n",
    "\n",
    "$$\n",
    "=\\frac{1}{2} (\\sum \\limits_{i \\in A_k, j \\in \\bar{A_k}} w_{ij}(\\frac{1}{\\sqrt{vol(A_k)}}-0)^2+\\sum \\limits_{i \\in \\bar{A_k}, j \\in A_k} w_{ij}(\\frac{1}{\\sqrt{vol(A_k)}}-0)^2)\n",
    "$$\n",
    "\n",
    "为了将\\\\(i \\in A_k与j \\in \\bar{A_k}\\\\)的形式统一起来，可以定义一个指示m行列向量$h_k$。$h_k$的第i行为：\n",
    "\n",
    "$$\n",
    "h_{ik}=\\left\\{\n",
    "\\begin{aligned}\n",
    "0 &  & v_i \\notin A_k \\\\\n",
    "\\frac{1}{\\sqrt{vol(A_k)}} &  & v_i \\in A_k\n",
    "\\end{aligned}\n",
    "\\right.\n",
    "$$\n",
    "\n",
    "代入可得：\n",
    "\n",
    "$$\n",
    "\\frac{W(A_k, \\bar{A_k})}{vol(A_k)}=\\frac{1}{2} (\\sum \\limits_{i \\in A_k, j \\in \\bar{A_k}} w_{ij}(h_{ik}-h_{jk})^2+\\sum \\limits_{i \\in \\bar{A_k}, j \\in A_k} w_{ij}(h_{ik}-h_{jk})^2)\n",
    "$$\n",
    "\n",
    "\n",
    "$$\n",
    "=\\frac{1}{2} (\\sum \\limits_{i \\in A_k, j \\in \\bar{A_k}} w_{ij}(h_{ik}-h_{jk})^2+0+0+\\sum \\limits_{i \\in \\bar{A_k}, j \\in A_k} w_{ij}(h_{ik}-h_{jk})^2)\n",
    "$$\n",
    "\n",
    "\n",
    "$$\n",
    "=\\frac{1}{2} (\\sum \\limits_{i \\in A_k, j \\in \\bar{A_k}} w_{ij}(h_{ik}-h_{jk})^2+\\sum \\limits_{i \\in A_k, j \\in A_k} w_{ij}(h_{ik}-h_{jk})^2+\\sum \\limits_{i \\notin A_k, j \\notin A_k} w_{ij}(h_{ik}-h_{jk})^2+\\sum \\limits_{i \\in \\bar{A_k}, j \\in A_k} w_{ij}(h_{ik}-h_{jk})^2)\n",
    "$$\n",
    "\n",
    "$$\n",
    "=\\frac{1}{2} (\\sum \\limits_{i =1 }^m \\sum \\limits_{j = 1}^m w_{ij}(h_{ik}-h_{jk})^2)\n",
    "$$\n",
    "\n",
    "$$\n",
    "=\\frac{1}{2} (\\sum \\limits_{i =1 }^m \\sum \\limits_{j = 1}^m w_{ij}(h_{ik}^2-2h_{ik}h_{jk}+h_{jk}^2))\n",
    "$$\n",
    "\n",
    "$$\n",
    "=\\frac{1}{2} (\\sum \\limits_{i =1 }^m \\sum \\limits_{j = 1}^m w_{ij}(h_{ik}^2)-2\\sum \\limits_{i =1 }^m \\sum \\limits_{j = 1}^m w_{ij}h_{ik}h_{jk}+\\sum \\limits_{i =1 }^m \\sum \\limits_{j = 1}^m w_{ij}h_{jk}^2))\n",
    "$$\n",
    "\n",
    "$$\n",
    "=\\frac{1}{2} (\\sum \\limits_{i =1 }^m h_{ik}^2 d_i-2\\sum \\limits_{i =1 }^m \\sum \\limits_{j = 1}^m w_{ij}h_{ik}h_{jk}+\\sum \\limits_{j =1 }^m h_{jk}^2 d_j))\n",
    "$$\n",
    "\n",
    "$$\n",
    "=\\sum \\limits_{i =1 }^m h_{ik}^2 d_i-\\sum \\limits_{i =1 }^m \\sum \\limits_{j = 1}^m w_{ij}h_{ik}h_{jk}\n",
    "$$\n",
    "\n",
    "$$\n",
    "=h_k^T D h_k-h_k^T W h_k\n",
    "$$\n",
    "\n",
    "$$\n",
    "=h_k^T (D-W) h_k\n",
    "$$\n",
    "\n",
    "令L=D-W，L就是有名的拉普拉斯矩阵，那么\n",
    "\n",
    "\n",
    "$$\n",
    "\\frac{W(A_k, \\bar{A_k})}{vol(A_k)}=h_k^T L h_k\n",
    "$$\n",
    "\n",
    "对k个子图的优化目标进行求和，那么对于整个图，优化目标可以表示为\n",
    "\n",
    "$$\n",
    "Ncut(A_1,A_2,...A_k)= \\frac{1}{2} \\sum \\limits_{i=1}^k \\frac{W(A_i, \\bar{A_i})}{vol(A_i)}\n",
    "$$\n",
    "\n",
    "$$\n",
    "= \\sum \\limits_{i=1}^k h_k^T L h_k\n",
    "$$\n",
    "\n",
    "于是我们对于整张图，我们的优化目标变成了：\n",
    "\n",
    "$$min \\sum \\limits_{i=1}^k h_k^T L h_k$$\n",
    "\n",
    "$$=min  \\ tr(H^T L H) $$\n",
    "\n",
    "考虑到指示向量h与度d的定义，可以得到：\n",
    "\n",
    "$$H^T D H = I $$\n",
    "\n",
    "而这个式子很眼熟，与主成分分析PAC的优化目标仅仅的差异在于约束条件多了一个D。那么现在想办法把差异的部分去掉。\n",
    "\n",
    "令\\\\(F=D^\\frac{1}{2}H\\\\)，那么\\\\(H = D^\\frac{-1}{2} F\\\\)。那么优化目标以及约束条件变为：\n",
    "\n",
    "$$min  \\ tr(F^TD^\\frac{-1}{2} L D^\\frac{-1}{2} F) $$\n",
    "$$ s.t.\\ F^T F = I $$\n",
    "\n",
    "把\\\\(D^\\frac{-1}{2} L D^\\frac{-1}{2}\\\\)看作一个整体，那么优化目标就与PAC的优化目标完全一样了，要求最小值，只需要找到矩阵\\\\(D^\\frac{-1}{2} L D^\\frac{-1}{2}\\\\)的k个最小的特征值就完成了。而这k个特征值对应的特征向量就组成了\\\\(m\\times k\\\\)的矩阵F。F就是谱聚类中的“谱”，F的m个行向量对应图中的m个顶点。最终，我们使用传统的聚类算法将F的m个行向量进行聚类，就得到了最终的聚类结果。\n",
    "\n",
    "## 4. 算法步骤总结\n",
    "\n",
    "根据前面的分析，可以总结出，算法的步骤如下：\n",
    "\n",
    "1. 计算出邻接矩阵W\n",
    "2. 根据W，计算出度矩阵D\n",
    "3. 根据D与W，计算出拉普拉斯矩阵L\n",
    "4. 根据L与D，计算出B=\\\\(D^\\frac{-1}{2} L D^\\frac{-1}{2}\\\\)\n",
    "5. 求出B最小的k个特征值对应的k个特征向量组成的矩阵F\n",
    "6. 对F进行聚类（如k-means），得到最终的结果"
   ]
  },
  {
   "cell_type": "markdown",
   "metadata": {},
   "source": [
    "## 5. 实例\n",
    "\n",
    "以[scikit-learn众多聚类实例](https://scikit-learn.org/stable/auto_examples/cluster/plot_cluster_comparison.html#sphx-glr-auto-examples-cluster-plot-cluster-comparison-py)中的圆圈分类为例。有1500个样本，样本分布如图所示："
   ]
  },
  {
   "cell_type": "code",
   "execution_count": 3,
   "metadata": {
    "scrolled": false
   },
   "outputs": [
    {
     "data": {
      "text/plain": [
       "<matplotlib.collections.PathCollection at 0x1bcd1518>"
      ]
     },
     "execution_count": 3,
     "metadata": {},
     "output_type": "execute_result"
    },
    {
     "data": {
      "image/png": "[encoded data removed]",
      "text/plain": [
       "<Figure size 288x288 with 1 Axes>"
      ]
     },
     "metadata": {
      "needs_background": "light"
     },
     "output_type": "display_data"
    }
   ],
   "source": [
    "import time\n",
    "import warnings\n",
    "\n",
    "import numpy as np\n",
    "import matplotlib.pyplot as plt\n",
    "\n",
    "from sklearn import cluster, datasets, mixture\n",
    "from sklearn.preprocessing import StandardScaler\n",
    "from itertools import cycle, islice\n",
    "\n",
    "np.random.seed(0)\n",
    "\n",
    "n_samples = 1500\n",
    "noisy_circles = datasets.make_circles(n_samples=n_samples, factor=.5,\n",
    "                                      noise=.05)[0]\n",
    "\n",
    "x1 = noisy_circles[:,0]\n",
    "x2 = noisy_circles[:,1]\n",
    "\n",
    "originX = np.array([x1, x2]).T\n",
    "\n",
    "fig, ax = plt.subplots()\n",
    "fig.set_size_inches(4, 4)\n",
    "\n",
    "ax.scatter(x1, x2)"
   ]
  },
  {
   "cell_type": "markdown",
   "metadata": {},
   "source": [
    "现在需要对数据集进行聚类。可以从分布图看出，样本聚集在2个同心圆上。所以，理想的分类结果应该是聚成2类，每个圆上的样本聚成1类。\n",
    "\n",
    "按照谱聚类的步骤，我们先算出邻接矩阵W："
   ]
  },
  {
   "cell_type": "code",
   "execution_count": 5,
   "metadata": {},
   "outputs": [],
   "source": [
    "from sklearn.neighbors import kneighbors_graph\n",
    "\n",
    "connectivity = kneighbors_graph(originX, n_neighbors=10, include_self=False, mode = 'distance')\n",
    "W = 0.5 * (connectivity + connectivity.T)\n",
    "W = W.toarray()"
   ]
  },
  {
   "cell_type": "markdown",
   "metadata": {},
   "source": [
    "然后，利用邻接矩阵W，计算出度矩阵D："
   ]
  },
  {
   "cell_type": "code",
   "execution_count": 6,
   "metadata": {},
   "outputs": [],
   "source": [
    "D = np.zeros(W.shape)\n",
    "for i in range(W.shape[0]):\n",
    "    for j in range(W.shape[0]):\n",
    "        D[i, i] = D[i, i]+W[i,j]"
   ]
  },
  {
   "cell_type": "markdown",
   "metadata": {},
   "source": [
    "然后，可以使用W与D，计算出拉普拉斯矩阵L："
   ]
  },
  {
   "cell_type": "code",
   "execution_count": 7,
   "metadata": {},
   "outputs": [],
   "source": [
    "L = D-W"
   ]
  },
  {
   "cell_type": "markdown",
   "metadata": {},
   "source": [
    "接着，计算出\\\\(D^\\frac{-1}{2} L D^\\frac{-1}{2}\\\\)，以B表示："
   ]
  },
  {
   "cell_type": "code",
   "execution_count": 8,
   "metadata": {},
   "outputs": [],
   "source": [
    "tmp = np.zeros(D.shape)\n",
    "for i in range(tmp.shape[0]):\n",
    "    tmp[i,i] = 1.0/np.sqrt(D[i,i])\n",
    "B = tmp@L@tmp\n",
    "\n",
    "for i in range(B.shape[0]):\n",
    "    for j in range(B.shape[1]):\n",
    "        B[i,j] = '%.9f'%(B[i,j])\n",
    "        "
   ]
  },
  {
   "cell_type": "markdown",
   "metadata": {},
   "source": [
    "然后，求出B的2（k=2）个最小的特征值，即这2个特征对应的特征向量组成的矩阵F："
   ]
  },
  {
   "cell_type": "code",
   "execution_count": 9,
   "metadata": {},
   "outputs": [],
   "source": [
    "from numpy.linalg import eig\n",
    "eigenvalue,eigenvector=eig(B)\n",
    "\n",
    "first = np.where(eigenvalue == np.min(eigenvalue))[0][0]\n",
    "second = np.where(eigenvalue == np.max(eigenvalue))[0][0]\n",
    "for i in range(eigenvalue.shape[0]):\n",
    "    if i == first:\n",
    "        continue;\n",
    "    if eigenvalue[i]<eigenvalue[second]:\n",
    "        second=i;\n",
    "        \n",
    "F = np.array([eigenvector[:,first], eigenvector[:,second]], np.float64).T"
   ]
  },
  {
   "cell_type": "markdown",
   "metadata": {},
   "source": [
    "最后，实用kmeans对F中1500个样本进行聚类，结果如图所示："
   ]
  },
  {
   "cell_type": "code",
   "execution_count": 10,
   "metadata": {
    "scrolled": false
   },
   "outputs": [
    {
     "data": {
      "text/plain": [
       "<matplotlib.collections.PathCollection at 0x1be078d0>"
      ]
     },
     "execution_count": 10,
     "metadata": {},
     "output_type": "execute_result"
    },
    {
     "data": {
      "image/png": "[encoded data removed]",
      "text/plain": [
       "<Figure size 288x288 with 1 Axes>"
      ]
     },
     "metadata": {
      "needs_background": "light"
     },
     "output_type": "display_data"
    }
   ],
   "source": [
    "from sklearn.cluster import KMeans\n",
    "kmeans = KMeans(n_clusters=2, random_state=0).fit(F)\n",
    "\n",
    "colors = []\n",
    "for i in range(kmeans.labels_.shape[0]):\n",
    "    if kmeans.labels_[i] == 1:\n",
    "        colors.append('red')\n",
    "    else:\n",
    "        colors.append('blue')\n",
    "        \n",
    "fig, ax = plt.subplots()\n",
    "fig.set_size_inches(4, 4)\n",
    "\n",
    "ax.scatter(x1, x2, c=colors, marker='o')"
   ]
  },
  {
   "cell_type": "markdown",
   "metadata": {},
   "source": [
    "从图中可以看出，算法成功地将样本聚成2类，每一类分别聚集在2个圆上，与我们期待的结果一致。\n",
    "实际上，scikit-learn已经封装好了算法的所有步骤，在实际使用的时候，只需要调用scikit-learn的SpectralClustering类就行了，以下是scikit-learn的计算方法，以及最终的聚类结果："
   ]
  },
  {
   "cell_type": "code",
   "execution_count": 12,
   "metadata": {},
   "outputs": [
    {
     "name": "stdout",
     "output_type": "stream",
     "text": [
      "> e:\\py3-projects\\graphml\\venv\\lib\\site-packages\\sklearn\\cluster\\spectral.py(487)fit()\n",
      "-> random_state = check_random_state(self.random_state)\n",
      "(Pdb) c\n"
     ]
    },
    {
     "data": {
      "text/plain": [
       "<matplotlib.collections.PathCollection at 0x1be84978>"
      ]
     },
     "execution_count": 12,
     "metadata": {},
     "output_type": "execute_result"
    },
    {
     "data": {
      "image/png": "[encoded data removed]",
      "text/plain": [
       "<Figure size 288x288 with 1 Axes>"
      ]
     },
     "metadata": {
      "needs_background": "light"
     },
     "output_type": "display_data"
    }
   ],
   "source": [
    "from sklearn.cluster import SpectralClustering\n",
    "\n",
    "originX = StandardScaler().fit_transform(originX)\n",
    "clustering = SpectralClustering(n_clusters=2,\n",
    "        eigen_solver='arpack',\n",
    "        affinity=\"nearest_neighbors\").fit(originX)\n",
    "\n",
    "\n",
    "colors = []\n",
    "for i in range(clustering.labels_.shape[0]):\n",
    "    if clustering.labels_[i] == 1:\n",
    "        colors.append('red')\n",
    "    else:\n",
    "        colors.append('blue')\n",
    "        \n",
    "fig, ax = plt.subplots()\n",
    "fig.set_size_inches(4, 4)\n",
    "\n",
    "ax.scatter(x1, x2, c=colors, marker='o')"
   ]
  }
 ],
 "metadata": {
  "kernelspec": {
   "display_name": "Python 3",
   "language": "python",
   "name": "python3"
  },
  "language_info": {
   "codemirror_mode": {
    "name": "ipython",
    "version": 3
   },
   "file_extension": ".py",
   "mimetype": "text/x-python",
   "name": "python",
   "nbconvert_exporter": "python",
   "pygments_lexer": "ipython3",
   "version": "3.7.1"
  }
 },
 "nbformat": 4,
 "nbformat_minor": 2
}
